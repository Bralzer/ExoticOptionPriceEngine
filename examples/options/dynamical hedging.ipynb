{
 "cells": [
  {
   "cell_type": "code",
   "execution_count": null,
   "metadata": {
    "collapsed": true
   },
   "outputs": [],
   "source": [
    "%matplotlib inline\n",
    "from math import *\n",
    "import numpy as np\n",
    "from matplotlib import pyplot as plt\n",
    "from QuantLib import *\n",
    "from PyFin.Math.Distributions import CumulativeNormalDistribution\n",
    "\n",
    "plt.style.use('fivethirtyeight')"
   ]
  },
  {
   "cell_type": "markdown",
   "metadata": {},
   "source": [
    "# 1. Functions\n",
    "-------------------"
   ]
  },
  {
   "cell_type": "code",
   "execution_count": null,
   "metadata": {
    "collapsed": true
   },
   "outputs": [],
   "source": [
    "def bs_theoretical_price(payoff, spot, ttm, volatility, rf_rate, finance_rate=None):\n",
    "    \n",
    "    if not finance_rate:\n",
    "        finance_rate = rf_rate\n",
    "    \n",
    "    forward = spot * exp(finance_rate * ttm)\n",
    "    std_dev = volatility * sqrt(ttm)\n",
    "    discount = exp(-rf_rate * ttm)\n",
    "    return blackFormula(payoff.optionType(), payoff.strike(), forward, std_dev, discount)"
   ]
  },
  {
   "cell_type": "code",
   "execution_count": null,
   "metadata": {},
   "outputs": [],
   "source": [
    "\n",
    "\n",
    "_dist = CumulativeNormalDistribution()\n",
    "\n",
    "def _exercise(payoff, spot):\n",
    "    return payoff(spot)\n",
    "\n",
    "_exercise = np.frompyfunc(_exercise, 2, 1)\n",
    "\n",
    "\n",
    "def _create_path(rsg, ln_spot, drift, diffusion, delta_t):\n",
    "    rnd = np.array(rsg.nextSequence().value())\n",
    "    in_c = delta_t * drift + np.sqrt(delta_t) * diffusion * rnd\n",
    "    inc_c_cum = np.cumsum(in_c)\n",
    "    return np.exp(np.concatenate(([ln_spot], ln_spot + inc_c_cum)))\n",
    "\n",
    "\n",
    "def _bs_delta(option_type, finance_rate, volatility, ttm, spot, strike):\n",
    "    money_ness = log(spot / strike)\n",
    "    drift = (finance_rate + 0.5 * (volatility ** 2)) * ttm\n",
    "    d1 = (money_ness + drift) / volatility / sqrt(ttm)\n",
    "    call_delta =  _dist(d1)\n",
    "    \n",
    "    if option_type == Option.Call:\n",
    "        return call_delta\n",
    "    elif option_type == Option.Put:\n",
    "        return call_delta - 1.\n",
    "\n",
    "_bs_delta = np.frompyfunc(_bs_delta, 6, 1)\n",
    "\n",
    "\n",
    "def _hedging_on_path(payoff, ttm, time_grids, spot_path, volatility, inflations, rf_rate, finance_rate, trading_cost):\n",
    "    delta_t = time_grids[0] - time_grids[1]\n",
    "    deltas = _bs_delta(payoff.optionType(), finance_rate, volatility, time_grids, spot_path[:-1], payoff.strike())\n",
    "    borrows = spot_path[:-1] * deltas\n",
    "    finance_cost = borrows * finance_rate * delta_t\n",
    "    stock_pnl = deltas * (spot_path[1:] - spot_path[:-1])\n",
    "    trading_slipge = np.abs(np.concatenate(([deltas[0]], np.diff(deltas)))) * spot_path[:-1] * trading_cost\n",
    "    hedging_pnl = ((stock_pnl - finance_cost - trading_slipge) * inflations).sum()\n",
    "    \n",
    "    exercise_pnl = payoff(spot_path[-1])\n",
    "    total_cost = hedging_pnl - exercise_pnl\n",
    "    \n",
    "    return exp(-rf_rate * ttm) * total_cost\n",
    "\n",
    "\n",
    "class HedgeAnalysor(object):\n",
    "    \n",
    "    def __init__(self,\n",
    "                 payoff,\n",
    "                 trading_cost=0.):\n",
    "        self.payoff = payoff\n",
    "        self.trading_cost = trading_cost\n",
    "    \n",
    "    @staticmethod\n",
    "    def _prepare_parameters(rf_rate, finance_rate, underlying_risk_return):\n",
    "        if not finance_rate:\n",
    "            finance_rate = rf_rate\n",
    "        \n",
    "        if not underlying_risk_return:\n",
    "            underlying_risk_return = rf_rate\n",
    "        \n",
    "        return finance_rate, underlying_risk_return\n",
    "\n",
    "    def exercise(self, spots):\n",
    "        return _exercise(self.payoff, spots)\n",
    "    \n",
    "    def _hedge_path(self, rsg, ttm, time_grids, ln_spot, volatility, drift, diffusion, delta_t, inflations, rf_rate, finance_rate):\n",
    "        spot_path = _create_path(rsg, ln_spot, drift, diffusion, delta_t)\n",
    "        return _hedging_on_path(self.payoff, ttm, time_grids, spot_path, volatility, inflations, rf_rate, finance_rate, self.trading_cost)\n",
    "        \n",
    "    \n",
    "    def hedge_cost(self,\n",
    "                   rf_rate,\n",
    "                   volatility,\n",
    "                   realized_vol,\n",
    "                   ttm,\n",
    "                   finance_rate=None,\n",
    "                   underlying_risk_return=None,\n",
    "                   spot=1.,\n",
    "                   time_steps=50,\n",
    "                   simulations=100,\n",
    "                   seed=20):\n",
    "        rng = MersenneTwisterUniformRng(seed)\n",
    "        rsg = MersenneTwisterUniformRsg(dimensionality=time_steps,\n",
    "                                        rng=rng)\n",
    "        rsg = InvCumulativeMersenneTwisterGaussianRsg(rsg)\n",
    "        \n",
    "        finance_rate, underlying_risk_return = self._prepare_parameters(rf_rate,\n",
    "                                                                        finance_rate,\n",
    "                                                                        underlying_risk_return)\n",
    "        \n",
    "        ln_spot = log(spot)\n",
    "        delta_t = ttm / time_steps\n",
    "\n",
    "        drift = underlying_risk_return - 0.5 * (realized_vol ** 2)\n",
    "        diffusion = realized_vol\n",
    "        time_grids = np.linspace(ttm, 0, num=time_steps, endpoint=False)\n",
    "        inflations = np.exp(finance_rate * (time_grids - delta_t))\n",
    "        \n",
    "        hedging_cost_batch = np.zeros(simulations)\n",
    "        \n",
    "        for i in range(simulations):\n",
    "            hedging_cost = self._hedge_path(rsg,\n",
    "                                            ttm,\n",
    "                                            time_grids,\n",
    "                                            ln_spot,\n",
    "                                            volatility,\n",
    "                                            drift,\n",
    "                                            diffusion,\n",
    "                                            delta_t,\n",
    "                                            inflations,\n",
    "                                            rf_rate,\n",
    "                                            finance_rate)\n",
    "            hedging_cost_batch[i] = hedging_cost\n",
    "        \n",
    "        return -hedging_cost_batch"
   ]
  },
  {
   "cell_type": "code",
   "execution_count": null,
   "metadata": {},
   "outputs": [],
   "source": [
    "rf_rate = 0.0435\n",
    "strike = 1.\n",
    "volatility = 0.20\n",
    "realized_vol = 0.20\n",
    "ttm = 1.\n",
    "spot = 1.\n",
    "trading_cost = 0.0\n",
    "simulations = 20000\n",
    "time_steps = 250\n",
    "\n",
    "payoff = PlainVanillaPayoff(Option.Call, strike)\n",
    "hf = HedgeAnalysor(payoff, trading_cost)"
   ]
  },
  {
   "cell_type": "code",
   "execution_count": null,
   "metadata": {},
   "outputs": [],
   "source": [
    "%%time\n",
    "\n",
    "res = hf.hedge_cost(rf_rate=rf_rate,\n",
    "                    volatility=volatility,\n",
    "                    realized_vol=realized_vol,\n",
    "                    ttm=ttm, spot=spot,\n",
    "                    simulations=simulations,\n",
    "                    time_steps=time_steps)\n",
    "bs_price = bs_theoretical_price(payoff, spot, ttm, volatility, rf_rate)"
   ]
  },
  {
   "cell_type": "code",
   "execution_count": null,
   "metadata": {},
   "outputs": [],
   "source": [
    "plt.figure(figsize=(12, 6))\n",
    "plt.hist(res, bins=50)\n",
    "plt.axvline(x=bs_price, color='red', linestyle='dashed', label='Theoretical Price')\n",
    "plt.axvline(x=res.mean(), color='green', linestyle='dashed', label='Hedging Cost Mean')\n",
    "plt.title(\"Hedging Cost v.s. Theoretical Price (tc = {0})\".format(trading_cost))\n",
    "plt.legend()"
   ]
  },
  {
   "cell_type": "markdown",
   "metadata": {},
   "source": [
    "# 2. Base Parameters\n",
    "----------------------"
   ]
  },
  {
   "cell_type": "code",
   "execution_count": null,
   "metadata": {
    "collapsed": true
   },
   "outputs": [],
   "source": [
    "rf_rate = 0.0435\n",
    "strike = 1.\n",
    "ttm = 1.\n",
    "spot = 1.\n",
    "simulations = 20000\n",
    "trading_cost = 0.002\n",
    "volatility = 0.20\n",
    "realized_vol = volatility\n",
    "\n",
    "payoff = PlainVanillaPayoff(Option.Call, strike)\n",
    "hf = HedgeAnalysor(payoff, trading_cost=trading_cost)"
   ]
  },
  {
   "cell_type": "markdown",
   "metadata": {},
   "source": [
    "# 3. Scenario Analysis\n",
    "---------------"
   ]
  },
  {
   "cell_type": "markdown",
   "metadata": {},
   "source": [
    "## 2.1 Scenario 1\n",
    "\n",
    "* `finance_rate` = `rf_rate`\n",
    "* `underlying_risk_return` = `rf_rate`"
   ]
  },
  {
   "cell_type": "code",
   "execution_count": null,
   "metadata": {
    "collapsed": true
   },
   "outputs": [],
   "source": [
    "finance_rate = rf_rate\n",
    "underlying_risk_return = rf_rate\n",
    "time_steps_scenarios = [50, 250]"
   ]
  },
  {
   "cell_type": "code",
   "execution_count": null,
   "metadata": {},
   "outputs": [],
   "source": [
    "simulations_res = []\n",
    "bs_price = bs_theoretical_price(payoff, spot, ttm, volatility, rf_rate, finance_rate)\n",
    "\n",
    "for time_steps in time_steps_scenarios:\n",
    "    path_res = hf.hedge_cost(rf_rate=rf_rate,\n",
    "                             volatility=volatility,\n",
    "                             realized_vol=realized_vol,\n",
    "                             time_steps=time_steps,\n",
    "                             ttm=ttm,\n",
    "                             finance_rate=finance_rate,\n",
    "                             underlying_risk_return=underlying_risk_return,\n",
    "                             spot=spot,\n",
    "                             simulations=simulations)\n",
    "    \n",
    "    simulations_res.append(path_res)"
   ]
  },
  {
   "cell_type": "code",
   "execution_count": null,
   "metadata": {},
   "outputs": [],
   "source": [
    "fig, axes = plt.subplots(2, 1, figsize=(12, 12), sharex=True)\n",
    "\n",
    "for i, ax in enumerate(axes):\n",
    "    res = simulations_res[i]\n",
    "    ax.hist(res, bins=50)\n",
    "    ax.axvline(x=bs_price, color='red', linestyle='dashed', label='Theoretical Price')\n",
    "    ax.axvline(x=res.mean(), color='green', linestyle='dashed', label='Hedging Cost Mean')\n",
    "    ax.set_title(\"Hedging Cost v.s. Theoretical Price (tc = {0}, ts = {1})\".format(trading_cost,\n",
    "                                                                                   time_grids_scenarios[i]))\n",
    "    ax.legend()"
   ]
  },
  {
   "cell_type": "markdown",
   "metadata": {},
   "source": [
    "## 2.1 Scenario 2\n",
    "\n",
    "* `finance_rate` = `rf_rate`\n",
    "* `underlying_risk_return` = 0.12"
   ]
  },
  {
   "cell_type": "code",
   "execution_count": null,
   "metadata": {
    "collapsed": true
   },
   "outputs": [],
   "source": [
    "finance_rate = rf_rate\n",
    "underlying_risk_return = 0.12"
   ]
  },
  {
   "cell_type": "code",
   "execution_count": null,
   "metadata": {
    "collapsed": true
   },
   "outputs": [],
   "source": [
    "simulations_res = []\n",
    "bs_price = bs_theoretical_price(payoff, spot, ttm, volatility, rf_rate, finance_rate)\n",
    "\n",
    "for time_steps in time_steps_scenarios:\n",
    "    path_res = hf.hedge_cost(rf_rate=rf_rate,\n",
    "                             volatility=volatility,\n",
    "                             realized_vol=realized_vol,\n",
    "                             time_steps=time_steps,\n",
    "                             ttm=ttm,\n",
    "                             finance_rate=finance_rate,\n",
    "                             underlying_risk_return=underlying_risk_return,\n",
    "                             spot=spot,\n",
    "                             simulations=simulations)\n",
    "    \n",
    "    simulations_res.append(path_res)"
   ]
  },
  {
   "cell_type": "code",
   "execution_count": null,
   "metadata": {},
   "outputs": [],
   "source": [
    "fig, axes = plt.subplots(2, 1, figsize=(12, 12), sharex=True)\n",
    "\n",
    "for i, ax in enumerate(axes):\n",
    "    res = simulations_res[i]\n",
    "    ax.hist(res, bins=50)\n",
    "    ax.axvline(x=bs_price, color='red', linestyle='dashed', label='Theoretical Price')\n",
    "    ax.axvline(x=res.mean(), color='green', linestyle='dashed', label='Hedging Cost Mean')\n",
    "    ax.set_title(\"Hedging Cost v.s. Theoretical Price (tc = {0}, ts = {1})\".format(trading_cost,\n",
    "                                                                                   time_grids_scenarios[i]))\n",
    "    ax.legend()"
   ]
  },
  {
   "cell_type": "markdown",
   "metadata": {},
   "source": [
    "## 2.1 Scenario 3\n",
    "\n",
    "* `finance_rate` = 0.10\n",
    "* `underlying_risk_return` = 0.12"
   ]
  },
  {
   "cell_type": "code",
   "execution_count": null,
   "metadata": {
    "collapsed": true
   },
   "outputs": [],
   "source": [
    "finance_rate = 0.10\n",
    "underlying_risk_return = 0.12"
   ]
  },
  {
   "cell_type": "code",
   "execution_count": null,
   "metadata": {
    "collapsed": true
   },
   "outputs": [],
   "source": [
    "simulations_res = []\n",
    "bs_price = bs_theoretical_price(payoff, spot, ttm, volatility, rf_rate, finance_rate)\n",
    "\n",
    "for time_steps in time_steps_scenarios:\n",
    "    path_res = hf.hedge_cost(rf_rate=rf_rate,\n",
    "                             volatility=volatility,\n",
    "                             realized_vol=realized_vol,\n",
    "                             time_steps=time_steps,\n",
    "                             ttm=ttm,\n",
    "                             finance_rate=finance_rate,\n",
    "                             underlying_risk_return=underlying_risk_return,\n",
    "                             spot=spot,\n",
    "                             simulations=simulations)\n",
    "    \n",
    "    simulations_res.append(path_res)"
   ]
  },
  {
   "cell_type": "code",
   "execution_count": null,
   "metadata": {},
   "outputs": [],
   "source": [
    "fig, axes = plt.subplots(2, 1, figsize=(12, 12), sharex=True)\n",
    "\n",
    "for i, ax in enumerate(axes):\n",
    "    res = simulations_res[i]\n",
    "    ax.hist(res, bins=50)\n",
    "    ax.axvline(x=bs_price, color='red', linestyle='dashed', label='Theoretical Price')\n",
    "    ax.axvline(x=res.mean(), color='green', linestyle='dashed', label='Hedging Cost Mean')\n",
    "    ax.set_title(\"Hedging Cost v.s. Theoretical Price (tc = {0}, ts = {1})\".format(trading_cost,\n",
    "                                                                                   time_grids_scenarios[i]))\n",
    "    ax.legend()"
   ]
  },
  {
   "cell_type": "code",
   "execution_count": null,
   "metadata": {
    "collapsed": true
   },
   "outputs": [],
   "source": []
  }
 ],
 "metadata": {
  "kernelspec": {
   "display_name": "Python 3",
   "language": "python",
   "name": "python3"
  },
  "language_info": {
   "codemirror_mode": {
    "name": "ipython",
    "version": 3
   },
   "file_extension": ".py",
   "mimetype": "text/x-python",
   "name": "python",
   "nbconvert_exporter": "python",
   "pygments_lexer": "ipython3",
   "version": "3.6.2"
  }
 },
 "nbformat": 4,
 "nbformat_minor": 2
}
