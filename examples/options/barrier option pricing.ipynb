{
 "cells": [
  {
   "cell_type": "code",
   "execution_count": null,
   "metadata": {
    "collapsed": true
   },
   "outputs": [],
   "source": [
    "%matplotlib inline\n",
    "import numpy as np\n",
    "import pandas as pd\n",
    "pd.set_option('precision', 2)\n",
    "from QuantLib import *"
   ]
  },
  {
   "cell_type": "markdown",
   "metadata": {},
   "source": [
    "## Parameter\n",
    "----------------"
   ]
  },
  {
   "cell_type": "code",
   "execution_count": null,
   "metadata": {},
   "outputs": [],
   "source": [
    "maturity_date = Date(30, 6, 2018)\n",
    "start_date = Date(1, 1, 2018)\n",
    "\n",
    "spot = 1.\n",
    "strike = 1.\n",
    "barrier = 1.5\n",
    "\n",
    "volatility = 0.30\n",
    "risk_free_rate = 0.\n",
    "dividend_rate = 0.\n",
    "day_count = Actual365Fixed()\n",
    "calendar = China(China.SSE)"
   ]
  },
  {
   "cell_type": "markdown",
   "metadata": {},
   "source": [
    "## Market Data\n",
    "-----------------"
   ]
  },
  {
   "cell_type": "code",
   "execution_count": null,
   "metadata": {},
   "outputs": [],
   "source": [
    "calculation_date = start_date\n",
    "Settings.instance().evaluationDate = calculation_date\n",
    "\n",
    "spot_handle = RelinkableQuoteHandle(SimpleQuote(spot))\n",
    "vol_handle =  RelinkableQuoteHandle(SimpleQuote(volatility))\n",
    "\n",
    "flat_ts = YieldTermStructureHandle(FlatForward(calculation_date, risk_free_rate, day_count))\n",
    "dividend_yield = YieldTermStructureHandle(FlatForward(calculation_date, dividend_rate, day_count))\n",
    "flat_vol_ts = BlackVolTermStructureHandle(BlackConstantVol(calculation_date, calendar, vol_handle, day_count))\n",
    "\n",
    "bsm_process = BlackScholesMertonProcess(spot_handle, dividend_yield, flat_ts, flat_vol_ts)"
   ]
  },
  {
   "cell_type": "code",
   "execution_count": null,
   "metadata": {
    "collapsed": true
   },
   "outputs": [],
   "source": [
    "payoff = PlainVanillaPayoff(Option.Call, strike)\n",
    "exercise = EuropeanExercise(maturity_date)\n",
    "\n",
    "option = BarrierOption(Barrier.UpOut, barrier=barrier, rebate=0., payoff=payoff, exercise=exercise)"
   ]
  },
  {
   "cell_type": "markdown",
   "metadata": {},
   "source": [
    "## Analytic Method\n",
    "------------------"
   ]
  },
  {
   "cell_type": "code",
   "execution_count": null,
   "metadata": {},
   "outputs": [],
   "source": [
    "%%time\n",
    "engine = AnalyticBarrierEngine(bsm_process)\n",
    "option.setPricingEngine(engine)\n",
    "\n",
    "bsm_price = option.NPV()\n",
    "print(\"BSM european theoreticl price is {0:.4f}\".format(bsm_price))"
   ]
  },
  {
   "cell_type": "markdown",
   "metadata": {},
   "source": [
    "## FDM method\n",
    "-------------"
   ]
  },
  {
   "cell_type": "code",
   "execution_count": null,
   "metadata": {},
   "outputs": [],
   "source": [
    "%%time\n",
    "engine = FdBlackScholesBarrierEngine(bsm_process, 100, 100)\n",
    "option.setPricingEngine(engine)\n",
    "\n",
    "bsm_price = option.NPV()\n",
    "bsm_delta = option.delta()\n",
    "print(\"FDM european price is {0:.4f}\".format(bsm_price))\n",
    "print(\"FDM european delta is {0:.4f}\".format(bsm_delta))"
   ]
  },
  {
   "cell_type": "markdown",
   "metadata": {},
   "source": [
    "## MC Method\n",
    "-------------------"
   ]
  },
  {
   "cell_type": "code",
   "execution_count": null,
   "metadata": {},
   "outputs": [],
   "source": [
    "engine = MCBarrierEngine(bsm_process, 'ld', 100, brownianBridge=True, antitheticVariate=True, requiredSamples=5000)\n",
    "option.setPricingEngine(engine)\n",
    "\n",
    "bsm_price = option.NPV()\n",
    "print(\"MC european price is {0:.4f}\".format(bsm_price))"
   ]
  },
  {
   "cell_type": "code",
   "execution_count": null,
   "metadata": {
    "collapsed": true
   },
   "outputs": [],
   "source": []
  }
 ],
 "metadata": {
  "kernelspec": {
   "display_name": "Python 3",
   "language": "python",
   "name": "python3"
  }
 },
 "nbformat": 4,
 "nbformat_minor": 2
}
