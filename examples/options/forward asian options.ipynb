{
 "cells": [
  {
   "cell_type": "code",
   "execution_count": 2,
   "metadata": {},
   "outputs": [],
   "source": [
    "%matplotlib inline\n",
    "import numpy as np\n",
    "import pandas as pd\n",
    "from matplotlib import pyplot as plt\n",
    "from QuantLib import *\n",
    "\n",
    "plt.style.use('fivethirtyeight')"
   ]
  },
  {
   "cell_type": "code",
   "execution_count": 33,
   "metadata": {},
   "outputs": [],
   "source": [
    "start_date = Date(30, 4, 2017)\n",
    "maturity_date = Date(31, 7, 2017)\n",
    "freq = Period(1, Days)\n",
    "option_type = Option.Put\n",
    "strike_price = 1.\n",
    "spot_price = 1.\n",
    "volatility = 0.41\n",
    "\n",
    "risk_free_rate = 0.035\n",
    "dividend_rate = 0.\n",
    "day_count = Actual365Fixed()\n",
    "calendar = China(China.SSE)\n",
    "\n",
    "payoff = PlainVanillaPayoff(option_type, strike_price)\n",
    "exercise = EuropeanExercise(maturity_date)"
   ]
  },
  {
   "cell_type": "code",
   "execution_count": 46,
   "metadata": {},
   "outputs": [],
   "source": [
    "fixing_start_date = Date(30, 4, 2017)\n",
    "\n",
    "fixing_scheduler = Schedule(fixing_start_date, maturity_date, freq, calendar, Following, Following, DateGeneration.Backward, False)\n",
    "fixing_dates = [d for d in fixing_scheduler][1:]"
   ]
  },
  {
   "cell_type": "code",
   "execution_count": 47,
   "metadata": {},
   "outputs": [],
   "source": [
    "calculation_date = start_date\n",
    "Settings.instance().evaluationDate = calculation_date"
   ]
  },
  {
   "cell_type": "code",
   "execution_count": 48,
   "metadata": {},
   "outputs": [],
   "source": [
    "spot_handle = RelinkableQuoteHandle(SimpleQuote(spot_price))\n",
    "flat_ts = YieldTermStructureHandle(FlatForward(calculation_date, risk_free_rate, day_count))\n",
    "dividend_yield = YieldTermStructureHandle(FlatForward(calculation_date, dividend_rate, day_count))\n",
    "flat_vol_ts = BlackVolTermStructureHandle(BlackConstantVol(calculation_date, calendar, volatility, day_count))\n",
    "\n",
    "bsm_process = BlackScholesMertonProcess(spot_handle, dividend_yield, flat_ts, flat_vol_ts)\n",
    "option = DiscreteAveragingAsianOption(Average.Arithmetic, 0., 0, fixing_dates, payoff, exercise)"
   ]
  },
  {
   "cell_type": "code",
   "execution_count": 49,
   "metadata": {},
   "outputs": [
    {
     "name": "stdout",
     "output_type": "stream",
     "text": [
      "BSM ASIAN FDM price is 0.0463\n",
      "BSM ASIAN FDM delta is -0.4635\n"
     ]
    }
   ],
   "source": [
    "engine = FdBlackScholesAsianEngine(bsm_process, 200, 100, 100)\n",
    "option.setPricingEngine(engine)\n",
    "fdm_price = option.NPV()\n",
    "fdm_delta = option.delta()\n",
    "print(\"BSM ASIAN FDM price is {0:.4f}\".format(fdm_price))\n",
    "print(\"BSM ASIAN FDM delta is {0:.4f}\".format(fdm_delta))"
   ]
  },
  {
   "cell_type": "code",
   "execution_count": 50,
   "metadata": {},
   "outputs": [
    {
     "name": "stdout",
     "output_type": "stream",
     "text": [
      "BSM European price is 0.0773\n",
      "BSM European delta is -0.4420\n"
     ]
    }
   ],
   "source": [
    "option2 = EuropeanOption(payoff, exercise)\n",
    "engine2 = AnalyticEuropeanEngine(bsm_process)\n",
    "option2.setPricingEngine(engine2)\n",
    "price2 = option2.NPV()\n",
    "delta2 = option2.delta()\n",
    "print(\"BSM European price is {0:.4f}\".format(price2))\n",
    "print(\"BSM European delta is {0:.4f}\".format(delta2))"
   ]
  },
  {
   "cell_type": "code",
   "execution_count": null,
   "metadata": {},
   "outputs": [],
   "source": [
    "option2 = EuropeanOption"
   ]
  },
  {
   "cell_type": "code",
   "execution_count": null,
   "metadata": {},
   "outputs": [],
   "source": []
  }
 ],
 "metadata": {
  "kernelspec": {
   "display_name": "Python 3",
   "language": "python",
   "name": "python3"
  },
  "language_info": {
   "codemirror_mode": {
    "name": "ipython",
    "version": 3
   },
   "file_extension": ".py",
   "mimetype": "text/x-python",
   "name": "python",
   "nbconvert_exporter": "python",
   "pygments_lexer": "ipython3",
   "version": "3.6.3"
  },
  "varInspector": {
   "cols": {
    "lenName": 16,
    "lenType": 16,
    "lenVar": 40
   },
   "kernels_config": {
    "python": {
     "delete_cmd_postfix": "",
     "delete_cmd_prefix": "del ",
     "library": "var_list.py",
     "varRefreshCmd": "print(var_dic_list())"
    },
    "r": {
     "delete_cmd_postfix": ") ",
     "delete_cmd_prefix": "rm(",
     "library": "var_list.r",
     "varRefreshCmd": "cat(var_dic_list()) "
    }
   },
   "types_to_exclude": [
    "module",
    "function",
    "builtin_function_or_method",
    "instance",
    "_Feature"
   ],
   "window_display": false
  }
 },
 "nbformat": 4,
 "nbformat_minor": 2
}
