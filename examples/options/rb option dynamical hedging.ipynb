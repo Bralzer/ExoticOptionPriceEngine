{
 "cells": [
  {
   "cell_type": "code",
   "execution_count": 186,
   "metadata": {},
   "outputs": [
    {
     "name": "stdout",
     "output_type": "stream",
     "text": [
      "16937@wmcloud.com 账号登录成功\n"
     ]
    },
    {
     "data": {
      "text/plain": [
       "<uqer.uqer.Client at 0x17b8800bb38>"
      ]
     },
     "execution_count": 186,
     "metadata": {},
     "output_type": "execute_result"
    }
   ],
   "source": [
    "%matplotlib inline\n",
    "import requests\n",
    "from requests.packages.urllib3.exceptions import InsecureRequestWarning\n",
    "requests.packages.urllib3.disable_warnings(InsecureRequestWarning)\n",
    "import numpy as np\n",
    "import pandas as pd\n",
    "import datetime as dt\n",
    "from matplotlib import pyplot as plt\n",
    "import uqer\n",
    "from PyFin.api import *\n",
    "from uqer import DataAPI as api\n",
    "from QuantLib import *\n",
    "\n",
    "plt.style.use('fivethirtyeight')\n",
    "uqer.Client(token='f1b9bea1d0b4e489c5ab9b69c3e2326a1bee6057af858067dbd1546453f428b2')"
   ]
  },
  {
   "cell_type": "code",
   "execution_count": 187,
   "metadata": {
    "collapsed": true
   },
   "outputs": [],
   "source": [
    "start_date = '2017-04-01'\n",
    "end_date = '2017-08-01'\n",
    "\n",
    "dates = makeSchedule(start_date, end_date, '1m', 'china.sse', )\n",
    "\n",
    "mkt_start_date = advanceDateByCalendar('china.sse', start_date, '-30b').strftime('%Y-%m-%d')\n",
    "contract = 'ru1709'"
   ]
  },
  {
   "cell_type": "code",
   "execution_count": 188,
   "metadata": {},
   "outputs": [],
   "source": [
    "def get_contracts(contract, start_date, end_date):\n",
    "    data = api.MktFutdGet(ticker=contract, beginDate=start_date, endDate=end_date, field='tradeDate,closePrice')\n",
    "    data['tradeDate'] = pd.to_datetime(data.tradeDate)\n",
    "    data.set_index('tradeDate', inplace=True)\n",
    "    data['closePrice'] = data['closePrice'].astype(float)\n",
    "    data['ret'] = data.closePrice.diff() / data.closePrice.shift(1)\n",
    "    data['vol'] = data['ret'].rolling(window=22).std() * np.sqrt(249)\n",
    "    return data"
   ]
  },
  {
   "cell_type": "code",
   "execution_count": 441,
   "metadata": {},
   "outputs": [],
   "source": [
    "def get_contracts_bar(constract, start_date, end_date, unit=60):\n",
    "    start_date = dt.datetime.strptime(start_date, '%Y-%m-%d')\n",
    "    end_date = dt.datetime.strptime(end_date, '%Y-%m-%d')\n",
    "    \n",
    "    datas = []\n",
    "    while start_date < end_date:\n",
    "        this_end_date = advanceDateByCalendar('china.sse', start_date, '10b')\n",
    "        df = api.MktFutureBarHistDateRangeGet(instrumentID=contract,\n",
    "                                              startDate=start_date.strftime('%Y%m%d'),\n",
    "                                              endDate=this_end_date.strftime('%Y%m%d'),\n",
    "                                              unit=unit,\n",
    "                                              field='dataDate,barTime,closePrice')\n",
    "        datas.append(df)\n",
    "        start_date = this_end_date\n",
    "    data = pd.concat(datas)\n",
    "    data = data[(data.barTime >= '09:00') & (data.barTime <= '16:00')]\n",
    "    data['tradeDate'] = pd.to_datetime(data.dataDate + 'T' +  data.barTime)\n",
    "    data['closePrice'] = data['closePrice'].astype(float)\n",
    "    data['ret'] = data.closePrice.diff() / data.closePrice.shift(1)\n",
    "    data['vol'] = data['ret'].rolling(window=int(22 * 4 * 60 / unit)).std() * np.sqrt(249) * np.sqrt(4 * 60 / unit)\n",
    "    data.set_index('tradeDate', inplace=True)\n",
    "    return data[['closePrice', 'ret', 'vol']]"
   ]
  },
  {
   "cell_type": "code",
   "execution_count": 442,
   "metadata": {},
   "outputs": [],
   "source": [
    "mkt_data = get_contracts_bar(contract, mkt_start_date, end_date)"
   ]
  },
  {
   "cell_type": "code",
   "execution_count": 443,
   "metadata": {
    "collapsed": true
   },
   "outputs": [],
   "source": [
    "strangle_width = 400.\n",
    "lower_protect_area = 1000.\n",
    "upper_protect_area = 800.\n",
    "volatility = 0.42\n",
    "risk_free_rate = 0.\n",
    "dividend_rate = 0."
   ]
  },
  {
   "cell_type": "code",
   "execution_count": 444,
   "metadata": {},
   "outputs": [
    {
     "data": {
      "text/html": [
       "<div>\n",
       "<style>\n",
       "    .dataframe thead tr:only-child th {\n",
       "        text-align: right;\n",
       "    }\n",
       "\n",
       "    .dataframe thead th {\n",
       "        text-align: left;\n",
       "    }\n",
       "\n",
       "    .dataframe tbody tr th {\n",
       "        vertical-align: top;\n",
       "    }\n",
       "</style>\n",
       "<table border=\"1\" class=\"dataframe\">\n",
       "  <thead>\n",
       "    <tr style=\"text-align: right;\">\n",
       "      <th></th>\n",
       "      <th>closePrice</th>\n",
       "      <th>ret</th>\n",
       "      <th>vol</th>\n",
       "    </tr>\n",
       "    <tr>\n",
       "      <th>tradeDate</th>\n",
       "      <th></th>\n",
       "      <th></th>\n",
       "      <th></th>\n",
       "    </tr>\n",
       "  </thead>\n",
       "  <tbody>\n",
       "    <tr>\n",
       "      <th>2017-12-11 15:00:00</th>\n",
       "      <td>13550.0</td>\n",
       "      <td>-0.001474</td>\n",
       "      <td>0.329665</td>\n",
       "    </tr>\n",
       "    <tr>\n",
       "      <th>2017-12-12 10:00:00</th>\n",
       "      <td>13680.0</td>\n",
       "      <td>0.009594</td>\n",
       "      <td>0.331387</td>\n",
       "    </tr>\n",
       "    <tr>\n",
       "      <th>2017-12-12 11:15:00</th>\n",
       "      <td>13650.0</td>\n",
       "      <td>-0.002193</td>\n",
       "      <td>0.331427</td>\n",
       "    </tr>\n",
       "    <tr>\n",
       "      <th>2017-12-12 14:15:00</th>\n",
       "      <td>13590.0</td>\n",
       "      <td>-0.004396</td>\n",
       "      <td>0.331701</td>\n",
       "    </tr>\n",
       "    <tr>\n",
       "      <th>2017-12-12 15:00:00</th>\n",
       "      <td>13670.0</td>\n",
       "      <td>0.005887</td>\n",
       "      <td>0.332368</td>\n",
       "    </tr>\n",
       "  </tbody>\n",
       "</table>\n",
       "</div>"
      ],
      "text/plain": [
       "                     closePrice       ret       vol\n",
       "tradeDate                                          \n",
       "2017-12-11 15:00:00     13550.0 -0.001474  0.329665\n",
       "2017-12-12 10:00:00     13680.0  0.009594  0.331387\n",
       "2017-12-12 11:15:00     13650.0 -0.002193  0.331427\n",
       "2017-12-12 14:15:00     13590.0 -0.004396  0.331701\n",
       "2017-12-12 15:00:00     13670.0  0.005887  0.332368"
      ]
     },
     "execution_count": 444,
     "metadata": {},
     "output_type": "execute_result"
    }
   ],
   "source": [
    "mkt_data.tail()"
   ]
  },
  {
   "cell_type": "markdown",
   "metadata": {},
   "source": [
    "# Dynamical Hedging\n",
    "------------"
   ]
  },
  {
   "cell_type": "code",
   "execution_count": 445,
   "metadata": {
    "collapsed": true
   },
   "outputs": [],
   "source": [
    "def cal_naive_delta(spot, pp1, pp2, cp1, cp2):\n",
    "    \n",
    "    if spot <= pp1.strike():\n",
    "        return 0.\n",
    "    elif spot <= pp2.strike():\n",
    "        return -1.\n",
    "    elif spot <= cp1.strike():\n",
    "        return 0.\n",
    "    elif spot <= cp2.strike():\n",
    "        return 1.\n",
    "    else:\n",
    "        return 0.\n",
    "\n",
    "def hedging_contract(start_date, maturity_date, mkt_data, premium=None, naive_hedge=False):\n",
    "    spot_price = mkt_data[mkt_data.index < start_date.ISO()]['closePrice']\n",
    "    \n",
    "    if hasattr(spot_price, '__iter__'):\n",
    "        spot_price = spot_price[-1]\n",
    "    \n",
    "    lower_strike = spot_price\n",
    "    lower_bound = lower_strike - lower_protect_area\n",
    "    upper_strike = lower_strike + strangle_width\n",
    "    upper_bound = upper_strike + upper_protect_area\n",
    "    \n",
    "    day_count = Actual365Fixed()\n",
    "    calendar = China(China.SSE)\n",
    "    \n",
    "    calculation_date = start_date\n",
    "    Settings.instance().evaluationDate = calculation_date\n",
    "\n",
    "    spot_handle = RelinkableQuoteHandle(SimpleQuote(spot_price))\n",
    "    vol_handle =  RelinkableQuoteHandle(SimpleQuote(volatility))\n",
    "\n",
    "    flat_ts = YieldTermStructureHandle(FlatForward(calculation_date, risk_free_rate, day_count))\n",
    "    dividend_yield = YieldTermStructureHandle(FlatForward(calculation_date, dividend_rate, day_count))\n",
    "    flat_vol_ts = BlackVolTermStructureHandle(BlackConstantVol(calculation_date, calendar, vol_handle, day_count))\n",
    "\n",
    "    bsm_process = BlackScholesMertonProcess(spot_handle, dividend_yield, flat_ts, flat_vol_ts)\n",
    "    \n",
    "    put_payoff1 = PlainVanillaPayoff(Option.Put, lower_strike)\n",
    "    put_payoff2 = PlainVanillaPayoff(Option.Put, lower_bound)\n",
    "    call_payoff1 = PlainVanillaPayoff(Option.Call, upper_strike)\n",
    "    call_payoff2 = PlainVanillaPayoff(Option.Call, upper_bound)\n",
    "\n",
    "    exercise = EuropeanExercise(maturity_date)\n",
    "    put_option1 = VanillaOption(put_payoff1, exercise)\n",
    "    put_option2 = VanillaOption(put_payoff2, exercise)\n",
    "    call_option1 = VanillaOption(call_payoff1, exercise)\n",
    "    call_option2 = VanillaOption(call_payoff2, exercise)\n",
    "\n",
    "    engine = AnalyticEuropeanEngine(bsm_process)\n",
    "    put_option1.setPricingEngine(engine)\n",
    "    put_option2.setPricingEngine(engine)\n",
    "    call_option1.setPricingEngine(engine)\n",
    "    call_option2.setPricingEngine(engine)\n",
    "    \n",
    "    if not premium:\n",
    "        premium = put_option1.NPV() - put_option2.NPV() + call_option1.NPV() - call_option2.NPV()\n",
    "    \n",
    "    price_series = mkt_data.loc[start_date.ISO(): maturity_date.ISO()]\n",
    "    previous_delta = 0.\n",
    "    previous_price = 0.\n",
    "    trading_pnl = 0.\n",
    "    for p in price_series.iterrows():\n",
    "        date = Date.from_date(p[0])\n",
    "        price = p[1]['closePrice']\n",
    "        vol = p[1]['vol']\n",
    "        if date != maturity_date:\n",
    "            Settings.instance().evaluationDate = date\n",
    "        spot_handle.linkTo(SimpleQuote(price))\n",
    "        vol_handle.linkTo(SimpleQuote(vol))\n",
    "        bsm_delta = put_option1.delta() - put_option2.delta() + call_option1.delta() - call_option2.delta()\n",
    "        \n",
    "        if naive_hedge:\n",
    "            delta = cal_naive_delta(price, put_payoff1, put_payoff2, call_payoff1, call_payoff2)\n",
    "        else:\n",
    "            delta = bsm_delta\n",
    "        \n",
    "        trading_pnl += (price - previous_price) * previous_delta\n",
    "        previous_price = price\n",
    "        previous_delta = delta\n",
    "        \n",
    "    final_price = mkt_data.loc[maturity_date.ISO()]['closePrice']\n",
    "    if hasattr(final_price, '__iter__'):\n",
    "        final_price = final_price[-1]\n",
    "    final_payoff = put_payoff1(final_price) - put_payoff2(final_price) + call_payoff1(final_price) - call_payoff2(final_price)\n",
    "    \n",
    "    pnl_final = -final_payoff + premium + trading_pnl\n",
    "    \n",
    "    return spot_price, final_price, vol, final_payoff, premium, trading_pnl, pnl_final"
   ]
  },
  {
   "cell_type": "code",
   "execution_count": 446,
   "metadata": {},
   "outputs": [
    {
     "data": {
      "text/plain": [
       "(16545.0,\n",
       " 13495.0,\n",
       " 0.38444123153256793,\n",
       " 1000.0,\n",
       " 646.0,\n",
       " 357.3622073541228,\n",
       " 3.3622073541228019)"
      ]
     },
     "execution_count": 446,
     "metadata": {},
     "output_type": "execute_result"
    }
   ],
   "source": [
    "maturity_date = Date.from_date(advanceDateByCalendar('china.sse', dates[2], '-1b'))\n",
    "start_date = Date.from_date(dates[1])\n",
    "\n",
    "hedging_contract(start_date, maturity_date, mkt_data, 646.)"
   ]
  },
  {
   "cell_type": "markdown",
   "metadata": {},
   "source": [
    "# Historical Simulation\n",
    "-----------------"
   ]
  },
  {
   "cell_type": "markdown",
   "metadata": {},
   "source": [
    "## 日间对冲\n",
    "------------"
   ]
  },
  {
   "cell_type": "code",
   "execution_count": 447,
   "metadata": {
    "collapsed": true
   },
   "outputs": [],
   "source": [
    "strangle_width = 400.\n",
    "lower_protect_area = 1000.\n",
    "upper_protect_area = 800.\n",
    "volatility = 0.42\n",
    "risk_free_rate = 0.\n",
    "dividend_rate = 0.\n",
    "premium = 646."
   ]
  },
  {
   "cell_type": "code",
   "execution_count": 448,
   "metadata": {
    "collapsed": true
   },
   "outputs": [],
   "source": [
    "contract_definition = {\n",
    "    'ru1309': {\n",
    "        'start_date': '2013-04-01',\n",
    "        'end_date': '2013-08-01'\n",
    "    },\n",
    "    'ru1401': {\n",
    "        'start_date': '2013-08-01',\n",
    "        'end_date': '2013-12-01'\n",
    "    },\n",
    "    'ru1409': {\n",
    "        'start_date': '2014-04-01',\n",
    "        'end_date': '2014-08-01'\n",
    "    },\n",
    "     'ru1501': {\n",
    "        'start_date': '2014-08-01',\n",
    "        'end_date': '2014-12-01'\n",
    "    },\n",
    "    'ru1509': {\n",
    "        'start_date': '2015-04-01',\n",
    "        'end_date': '2015-08-01'\n",
    "    },\n",
    "    'ru1601': {\n",
    "        'start_date': '2015-08-01',\n",
    "        'end_date': '2015-12-01'\n",
    "    },\n",
    "    'ru1609': {\n",
    "        'start_date': '2016-04-01',\n",
    "        'end_date': '2016-08-01'\n",
    "    },\n",
    "    'ru1701': {\n",
    "        'start_date': '2016-08-01',\n",
    "        'end_date': '2016-12-01'\n",
    "    },\n",
    "    'ru1709': {\n",
    "        'start_date': '2017-04-01',\n",
    "        'end_date': '2017-08-01'\n",
    "    },\n",
    "    'ru1801': {\n",
    "        'start_date': '2017-08-01',\n",
    "        'end_date': '2017-12-01'\n",
    "    },\n",
    "}"
   ]
  },
  {
   "cell_type": "code",
   "execution_count": 449,
   "metadata": {},
   "outputs": [
    {
     "name": "stdout",
     "output_type": "stream",
     "text": [
      "Wall time: 1.27 s\n"
     ]
    }
   ],
   "source": [
    "%%time\n",
    "\n",
    "cols = ['合约', '到期日', '初始价', '收盘价', '实现波动率', '赔付', '期权费', '交易损益', '对冲损益', 'delta 1 对冲损益']\n",
    "df = pd.DataFrame(columns=cols)\n",
    "\n",
    "for contract in contract_definition:\n",
    "    start_date = contract_definition[contract]['start_date']\n",
    "    end_date = contract_definition[contract]['end_date']\n",
    "    dates = makeSchedule(start_date, end_date, '1m', 'china.sse')\n",
    "    mkt_start_date = advanceDateByCalendar('china.sse', start_date, '-30b').strftime('%Y-%m-%d')\n",
    "    mkt_data = get_contracts(contract, mkt_start_date, end_date)\n",
    "    \n",
    "    for i, s_date in enumerate(dates[:-1]):\n",
    "        maturity_date = Date.from_date(advanceDateByCalendar('china.sse', dates[i+1], '-1b'))\n",
    "        start_date = Date.from_date(s_date)\n",
    "\n",
    "        hedge = hedging_contract(start_date, maturity_date, mkt_data, premium)\n",
    "        delta1_hedge = hedging_contract(start_date, maturity_date, mkt_data, premium, True)\n",
    "        py_dt = dt.datetime(maturity_date.year(), maturity_date.month(), maturity_date.dayOfMonth())\n",
    "        df = df.append(dict(zip(cols, (contract, py_dt) + hedge + (delta1_hedge[-1],))), ignore_index=True)"
   ]
  },
  {
   "cell_type": "code",
   "execution_count": 450,
   "metadata": {
    "collapsed": true
   },
   "outputs": [],
   "source": [
    "df['不对冲损益'] = -df['赔付'] + df['期权费']"
   ]
  },
  {
   "cell_type": "code",
   "execution_count": 451,
   "metadata": {},
   "outputs": [
    {
     "data": {
      "text/html": [
       "<div>\n",
       "<style>\n",
       "    .dataframe thead tr:only-child th {\n",
       "        text-align: right;\n",
       "    }\n",
       "\n",
       "    .dataframe thead th {\n",
       "        text-align: left;\n",
       "    }\n",
       "\n",
       "    .dataframe tbody tr th {\n",
       "        vertical-align: top;\n",
       "    }\n",
       "</style>\n",
       "<table border=\"1\" class=\"dataframe\">\n",
       "  <thead>\n",
       "    <tr style=\"text-align: right;\">\n",
       "      <th></th>\n",
       "      <th>合约</th>\n",
       "      <th>到期日</th>\n",
       "      <th>初始价</th>\n",
       "      <th>收盘价</th>\n",
       "      <th>实现波动率</th>\n",
       "      <th>赔付</th>\n",
       "      <th>期权费</th>\n",
       "      <th>交易损益</th>\n",
       "      <th>对冲损益</th>\n",
       "      <th>delta 1 对冲损益</th>\n",
       "      <th>不对冲损益</th>\n",
       "    </tr>\n",
       "  </thead>\n",
       "  <tbody>\n",
       "    <tr>\n",
       "      <th>0</th>\n",
       "      <td>ru1309</td>\n",
       "      <td>2013-04-26</td>\n",
       "      <td>22165.0</td>\n",
       "      <td>19080.0</td>\n",
       "      <td>0.323892</td>\n",
       "      <td>1000.0</td>\n",
       "      <td>646.0</td>\n",
       "      <td>330.927109</td>\n",
       "      <td>-23.072891</td>\n",
       "      <td>-354.0</td>\n",
       "      <td>-354.0</td>\n",
       "    </tr>\n",
       "    <tr>\n",
       "      <th>1</th>\n",
       "      <td>ru1309</td>\n",
       "      <td>2013-05-31</td>\n",
       "      <td>19080.0</td>\n",
       "      <td>18740.0</td>\n",
       "      <td>0.312908</td>\n",
       "      <td>340.0</td>\n",
       "      <td>646.0</td>\n",
       "      <td>-69.120001</td>\n",
       "      <td>236.879999</td>\n",
       "      <td>1411.0</td>\n",
       "      <td>306.0</td>\n",
       "    </tr>\n",
       "    <tr>\n",
       "      <th>2</th>\n",
       "      <td>ru1309</td>\n",
       "      <td>2013-06-28</td>\n",
       "      <td>18740.0</td>\n",
       "      <td>17005.0</td>\n",
       "      <td>0.273979</td>\n",
       "      <td>1000.0</td>\n",
       "      <td>646.0</td>\n",
       "      <td>229.855685</td>\n",
       "      <td>-124.144315</td>\n",
       "      <td>-689.0</td>\n",
       "      <td>-354.0</td>\n",
       "    </tr>\n",
       "    <tr>\n",
       "      <th>3</th>\n",
       "      <td>ru1309</td>\n",
       "      <td>2013-07-31</td>\n",
       "      <td>17005.0</td>\n",
       "      <td>16865.0</td>\n",
       "      <td>0.295579</td>\n",
       "      <td>140.0</td>\n",
       "      <td>646.0</td>\n",
       "      <td>-102.765998</td>\n",
       "      <td>403.234002</td>\n",
       "      <td>111.0</td>\n",
       "      <td>506.0</td>\n",
       "    </tr>\n",
       "    <tr>\n",
       "      <th>4</th>\n",
       "      <td>ru1401</td>\n",
       "      <td>2013-08-30</td>\n",
       "      <td>17915.0</td>\n",
       "      <td>20000.0</td>\n",
       "      <td>0.246227</td>\n",
       "      <td>800.0</td>\n",
       "      <td>646.0</td>\n",
       "      <td>27.845411</td>\n",
       "      <td>-126.154589</td>\n",
       "      <td>-14.0</td>\n",
       "      <td>-154.0</td>\n",
       "    </tr>\n",
       "  </tbody>\n",
       "</table>\n",
       "</div>"
      ],
      "text/plain": [
       "       合约        到期日      初始价      收盘价     实现波动率      赔付    期权费        交易损益  \\\n",
       "0  ru1309 2013-04-26  22165.0  19080.0  0.323892  1000.0  646.0  330.927109   \n",
       "1  ru1309 2013-05-31  19080.0  18740.0  0.312908   340.0  646.0  -69.120001   \n",
       "2  ru1309 2013-06-28  18740.0  17005.0  0.273979  1000.0  646.0  229.855685   \n",
       "3  ru1309 2013-07-31  17005.0  16865.0  0.295579   140.0  646.0 -102.765998   \n",
       "4  ru1401 2013-08-30  17915.0  20000.0  0.246227   800.0  646.0   27.845411   \n",
       "\n",
       "         对冲损益  delta 1 对冲损益  不对冲损益  \n",
       "0  -23.072891        -354.0 -354.0  \n",
       "1  236.879999        1411.0  306.0  \n",
       "2 -124.144315        -689.0 -354.0  \n",
       "3  403.234002         111.0  506.0  \n",
       "4 -126.154589         -14.0 -154.0  "
      ]
     },
     "execution_count": 451,
     "metadata": {},
     "output_type": "execute_result"
    }
   ],
   "source": [
    "df.head()"
   ]
  },
  {
   "cell_type": "code",
   "execution_count": 452,
   "metadata": {},
   "outputs": [
    {
     "data": {
      "text/html": [
       "<div>\n",
       "<style>\n",
       "    .dataframe thead tr:only-child th {\n",
       "        text-align: right;\n",
       "    }\n",
       "\n",
       "    .dataframe thead th {\n",
       "        text-align: left;\n",
       "    }\n",
       "\n",
       "    .dataframe tbody tr th {\n",
       "        vertical-align: top;\n",
       "    }\n",
       "</style>\n",
       "<table border=\"1\" class=\"dataframe\">\n",
       "  <thead>\n",
       "    <tr style=\"text-align: right;\">\n",
       "      <th></th>\n",
       "      <th>初始价</th>\n",
       "      <th>收盘价</th>\n",
       "      <th>实现波动率</th>\n",
       "      <th>赔付</th>\n",
       "      <th>期权费</th>\n",
       "      <th>交易损益</th>\n",
       "      <th>对冲损益</th>\n",
       "      <th>delta 1 对冲损益</th>\n",
       "      <th>不对冲损益</th>\n",
       "    </tr>\n",
       "    <tr>\n",
       "      <th>到期日</th>\n",
       "      <th></th>\n",
       "      <th></th>\n",
       "      <th></th>\n",
       "      <th></th>\n",
       "      <th></th>\n",
       "      <th></th>\n",
       "      <th></th>\n",
       "      <th></th>\n",
       "      <th></th>\n",
       "    </tr>\n",
       "  </thead>\n",
       "  <tbody>\n",
       "    <tr>\n",
       "      <th>2013</th>\n",
       "      <td>19290.000</td>\n",
       "      <td>18768.750</td>\n",
       "      <td>0.261487</td>\n",
       "      <td>539.375</td>\n",
       "      <td>646.0</td>\n",
       "      <td>30.506474</td>\n",
       "      <td>137.131474</td>\n",
       "      <td>-83.375</td>\n",
       "      <td>106.625</td>\n",
       "    </tr>\n",
       "    <tr>\n",
       "      <th>2014</th>\n",
       "      <td>14363.750</td>\n",
       "      <td>13788.125</td>\n",
       "      <td>0.229827</td>\n",
       "      <td>690.625</td>\n",
       "      <td>646.0</td>\n",
       "      <td>169.106949</td>\n",
       "      <td>124.481949</td>\n",
       "      <td>101.625</td>\n",
       "      <td>-44.625</td>\n",
       "    </tr>\n",
       "    <tr>\n",
       "      <th>2015</th>\n",
       "      <td>12620.000</td>\n",
       "      <td>12336.250</td>\n",
       "      <td>0.264896</td>\n",
       "      <td>545.625</td>\n",
       "      <td>646.0</td>\n",
       "      <td>65.793237</td>\n",
       "      <td>166.168237</td>\n",
       "      <td>67.875</td>\n",
       "      <td>100.375</td>\n",
       "    </tr>\n",
       "    <tr>\n",
       "      <th>2016</th>\n",
       "      <td>12217.500</td>\n",
       "      <td>12777.500</td>\n",
       "      <td>0.317360</td>\n",
       "      <td>658.125</td>\n",
       "      <td>646.0</td>\n",
       "      <td>47.432287</td>\n",
       "      <td>35.307287</td>\n",
       "      <td>109.125</td>\n",
       "      <td>-12.125</td>\n",
       "    </tr>\n",
       "    <tr>\n",
       "      <th>2017</th>\n",
       "      <td>14445.625</td>\n",
       "      <td>13744.375</td>\n",
       "      <td>0.333330</td>\n",
       "      <td>656.250</td>\n",
       "      <td>646.0</td>\n",
       "      <td>22.757294</td>\n",
       "      <td>12.507294</td>\n",
       "      <td>-265.250</td>\n",
       "      <td>-10.250</td>\n",
       "    </tr>\n",
       "  </tbody>\n",
       "</table>\n",
       "</div>"
      ],
      "text/plain": [
       "            初始价        收盘价     实现波动率       赔付    期权费        交易损益        对冲损益  \\\n",
       "到期日                                                                            \n",
       "2013  19290.000  18768.750  0.261487  539.375  646.0   30.506474  137.131474   \n",
       "2014  14363.750  13788.125  0.229827  690.625  646.0  169.106949  124.481949   \n",
       "2015  12620.000  12336.250  0.264896  545.625  646.0   65.793237  166.168237   \n",
       "2016  12217.500  12777.500  0.317360  658.125  646.0   47.432287   35.307287   \n",
       "2017  14445.625  13744.375  0.333330  656.250  646.0   22.757294   12.507294   \n",
       "\n",
       "      delta 1 对冲损益    不对冲损益  \n",
       "到期日                          \n",
       "2013       -83.375  106.625  \n",
       "2014       101.625  -44.625  \n",
       "2015        67.875  100.375  \n",
       "2016       109.125  -12.125  \n",
       "2017      -265.250  -10.250  "
      ]
     },
     "execution_count": 452,
     "metadata": {},
     "output_type": "execute_result"
    }
   ],
   "source": [
    "df.groupby(df['到期日'].dt.year).mean()"
   ]
  },
  {
   "cell_type": "code",
   "execution_count": 453,
   "metadata": {},
   "outputs": [
    {
     "data": {
      "text/plain": [
       "初始价             2872.994950\n",
       "收盘价             2747.603105\n",
       "实现波动率              0.074985\n",
       "赔付               342.140322\n",
       "期权费                0.000000\n",
       "交易损益             201.898770\n",
       "对冲损益             220.873920\n",
       "delta 1 对冲损益     626.309909\n",
       "不对冲损益            342.140322\n",
       "dtype: float64"
      ]
     },
     "execution_count": 453,
     "metadata": {},
     "output_type": "execute_result"
    }
   ],
   "source": [
    "df.std()"
   ]
  },
  {
   "cell_type": "code",
   "execution_count": 454,
   "metadata": {},
   "outputs": [
    {
     "data": {
      "text/plain": [
       "初始价             14587.375000\n",
       "收盘价             14283.000000\n",
       "实现波动率               0.281380\n",
       "赔付                618.000000\n",
       "期权费               646.000000\n",
       "交易损益               67.119248\n",
       "对冲损益               95.119248\n",
       "delta 1 对冲损益      -14.000000\n",
       "不对冲损益              28.000000\n",
       "dtype: float64"
      ]
     },
     "execution_count": 454,
     "metadata": {},
     "output_type": "execute_result"
    }
   ],
   "source": [
    "df.mean()"
   ]
  },
  {
   "cell_type": "markdown",
   "metadata": {},
   "source": [
    "## 日内对冲\n",
    "---------------"
   ]
  },
  {
   "cell_type": "code",
   "execution_count": 455,
   "metadata": {},
   "outputs": [
    {
     "name": "stdout",
     "output_type": "stream",
     "text": [
      "Wall time: 16.5 s\n"
     ]
    }
   ],
   "source": [
    "%%time\n",
    "\n",
    "cols = ['合约', '到期日', '初始价', '收盘价', '实现波动率', '赔付', '期权费', '交易损益', '对冲损益', 'delta 1 对冲损益']\n",
    "df2 = pd.DataFrame(columns=cols)\n",
    "\n",
    "for contract in contract_definition:\n",
    "    start_date = contract_definition[contract]['start_date']\n",
    "    end_date = contract_definition[contract]['end_date']\n",
    "    dates = makeSchedule(start_date, end_date, '1m', 'china.sse')\n",
    "    mkt_start_date = advanceDateByCalendar('china.sse', start_date, '-30b').strftime('%Y-%m-%d')\n",
    "    mkt_data = get_contracts_bar(contract, mkt_start_date, end_date, unit=60)\n",
    "    \n",
    "    for i, s_date in enumerate(dates[:-1]):\n",
    "        maturity_date = Date.from_date(advanceDateByCalendar('china.sse', dates[i+1], '-1b'))\n",
    "        start_date = Date.from_date(s_date)\n",
    "\n",
    "        hedge = hedging_contract(start_date, maturity_date, mkt_data, premium)\n",
    "        delta1_hedge = hedging_contract(start_date, maturity_date, mkt_data, premium, True)\n",
    "        py_dt = dt.datetime(maturity_date.year(), maturity_date.month(), maturity_date.dayOfMonth())\n",
    "        df2 = df2.append(dict(zip(cols, (contract, py_dt) + hedge + (delta1_hedge[-1],))), ignore_index=True)"
   ]
  },
  {
   "cell_type": "code",
   "execution_count": 456,
   "metadata": {
    "collapsed": true
   },
   "outputs": [],
   "source": [
    "df2['不对冲损益'] = -df['赔付'] + df['期权费']"
   ]
  },
  {
   "cell_type": "code",
   "execution_count": 457,
   "metadata": {},
   "outputs": [
    {
     "data": {
      "text/html": [
       "<div>\n",
       "<style>\n",
       "    .dataframe thead tr:only-child th {\n",
       "        text-align: right;\n",
       "    }\n",
       "\n",
       "    .dataframe thead th {\n",
       "        text-align: left;\n",
       "    }\n",
       "\n",
       "    .dataframe tbody tr th {\n",
       "        vertical-align: top;\n",
       "    }\n",
       "</style>\n",
       "<table border=\"1\" class=\"dataframe\">\n",
       "  <thead>\n",
       "    <tr style=\"text-align: right;\">\n",
       "      <th></th>\n",
       "      <th>合约</th>\n",
       "      <th>到期日</th>\n",
       "      <th>初始价</th>\n",
       "      <th>收盘价</th>\n",
       "      <th>实现波动率</th>\n",
       "      <th>赔付</th>\n",
       "      <th>期权费</th>\n",
       "      <th>交易损益</th>\n",
       "      <th>对冲损益</th>\n",
       "      <th>delta 1 对冲损益</th>\n",
       "      <th>不对冲损益</th>\n",
       "    </tr>\n",
       "  </thead>\n",
       "  <tbody>\n",
       "    <tr>\n",
       "      <th>0</th>\n",
       "      <td>ru1309</td>\n",
       "      <td>2013-04-26</td>\n",
       "      <td>22165.0</td>\n",
       "      <td>19080.0</td>\n",
       "      <td>0.363292</td>\n",
       "      <td>1000.0</td>\n",
       "      <td>646.0</td>\n",
       "      <td>389.349380</td>\n",
       "      <td>35.349380</td>\n",
       "      <td>-354.0</td>\n",
       "      <td>-354.0</td>\n",
       "    </tr>\n",
       "    <tr>\n",
       "      <th>1</th>\n",
       "      <td>ru1309</td>\n",
       "      <td>2013-05-31</td>\n",
       "      <td>19080.0</td>\n",
       "      <td>18740.0</td>\n",
       "      <td>0.242909</td>\n",
       "      <td>340.0</td>\n",
       "      <td>646.0</td>\n",
       "      <td>-136.945424</td>\n",
       "      <td>169.054576</td>\n",
       "      <td>1471.0</td>\n",
       "      <td>306.0</td>\n",
       "    </tr>\n",
       "    <tr>\n",
       "      <th>2</th>\n",
       "      <td>ru1309</td>\n",
       "      <td>2013-06-28</td>\n",
       "      <td>18740.0</td>\n",
       "      <td>17005.0</td>\n",
       "      <td>0.238767</td>\n",
       "      <td>1000.0</td>\n",
       "      <td>646.0</td>\n",
       "      <td>269.465020</td>\n",
       "      <td>-84.534980</td>\n",
       "      <td>-729.0</td>\n",
       "      <td>-354.0</td>\n",
       "    </tr>\n",
       "    <tr>\n",
       "      <th>3</th>\n",
       "      <td>ru1309</td>\n",
       "      <td>2013-07-31</td>\n",
       "      <td>17005.0</td>\n",
       "      <td>16865.0</td>\n",
       "      <td>0.247096</td>\n",
       "      <td>140.0</td>\n",
       "      <td>646.0</td>\n",
       "      <td>-210.046889</td>\n",
       "      <td>295.953111</td>\n",
       "      <td>-129.0</td>\n",
       "      <td>506.0</td>\n",
       "    </tr>\n",
       "    <tr>\n",
       "      <th>4</th>\n",
       "      <td>ru1401</td>\n",
       "      <td>2013-08-30</td>\n",
       "      <td>17915.0</td>\n",
       "      <td>20000.0</td>\n",
       "      <td>0.221684</td>\n",
       "      <td>800.0</td>\n",
       "      <td>646.0</td>\n",
       "      <td>152.554679</td>\n",
       "      <td>-1.445321</td>\n",
       "      <td>416.0</td>\n",
       "      <td>-154.0</td>\n",
       "    </tr>\n",
       "  </tbody>\n",
       "</table>\n",
       "</div>"
      ],
      "text/plain": [
       "       合约        到期日      初始价      收盘价     实现波动率      赔付    期权费        交易损益  \\\n",
       "0  ru1309 2013-04-26  22165.0  19080.0  0.363292  1000.0  646.0  389.349380   \n",
       "1  ru1309 2013-05-31  19080.0  18740.0  0.242909   340.0  646.0 -136.945424   \n",
       "2  ru1309 2013-06-28  18740.0  17005.0  0.238767  1000.0  646.0  269.465020   \n",
       "3  ru1309 2013-07-31  17005.0  16865.0  0.247096   140.0  646.0 -210.046889   \n",
       "4  ru1401 2013-08-30  17915.0  20000.0  0.221684   800.0  646.0  152.554679   \n",
       "\n",
       "         对冲损益  delta 1 对冲损益  不对冲损益  \n",
       "0   35.349380        -354.0 -354.0  \n",
       "1  169.054576        1471.0  306.0  \n",
       "2  -84.534980        -729.0 -354.0  \n",
       "3  295.953111        -129.0  506.0  \n",
       "4   -1.445321         416.0 -154.0  "
      ]
     },
     "execution_count": 457,
     "metadata": {},
     "output_type": "execute_result"
    }
   ],
   "source": [
    "df2.head()"
   ]
  },
  {
   "cell_type": "code",
   "execution_count": 458,
   "metadata": {},
   "outputs": [
    {
     "data": {
      "text/html": [
       "<div>\n",
       "<style>\n",
       "    .dataframe thead tr:only-child th {\n",
       "        text-align: right;\n",
       "    }\n",
       "\n",
       "    .dataframe thead th {\n",
       "        text-align: left;\n",
       "    }\n",
       "\n",
       "    .dataframe tbody tr th {\n",
       "        vertical-align: top;\n",
       "    }\n",
       "</style>\n",
       "<table border=\"1\" class=\"dataframe\">\n",
       "  <thead>\n",
       "    <tr style=\"text-align: right;\">\n",
       "      <th></th>\n",
       "      <th>初始价</th>\n",
       "      <th>收盘价</th>\n",
       "      <th>实现波动率</th>\n",
       "      <th>赔付</th>\n",
       "      <th>期权费</th>\n",
       "      <th>交易损益</th>\n",
       "      <th>对冲损益</th>\n",
       "      <th>delta 1 对冲损益</th>\n",
       "      <th>不对冲损益</th>\n",
       "    </tr>\n",
       "    <tr>\n",
       "      <th>到期日</th>\n",
       "      <th></th>\n",
       "      <th></th>\n",
       "      <th></th>\n",
       "      <th></th>\n",
       "      <th></th>\n",
       "      <th></th>\n",
       "      <th></th>\n",
       "      <th></th>\n",
       "      <th></th>\n",
       "    </tr>\n",
       "  </thead>\n",
       "  <tbody>\n",
       "    <tr>\n",
       "      <th>2013</th>\n",
       "      <td>19290.000</td>\n",
       "      <td>18768.750</td>\n",
       "      <td>0.232745</td>\n",
       "      <td>539.375</td>\n",
       "      <td>646.0</td>\n",
       "      <td>26.814663</td>\n",
       "      <td>133.439663</td>\n",
       "      <td>-47.750</td>\n",
       "      <td>106.625</td>\n",
       "    </tr>\n",
       "    <tr>\n",
       "      <th>2014</th>\n",
       "      <td>14386.875</td>\n",
       "      <td>13807.500</td>\n",
       "      <td>0.227062</td>\n",
       "      <td>697.500</td>\n",
       "      <td>646.0</td>\n",
       "      <td>137.019454</td>\n",
       "      <td>85.519454</td>\n",
       "      <td>-17.750</td>\n",
       "      <td>-44.625</td>\n",
       "    </tr>\n",
       "    <tr>\n",
       "      <th>2015</th>\n",
       "      <td>12620.000</td>\n",
       "      <td>12336.250</td>\n",
       "      <td>0.281842</td>\n",
       "      <td>545.625</td>\n",
       "      <td>646.0</td>\n",
       "      <td>35.866448</td>\n",
       "      <td>136.241448</td>\n",
       "      <td>37.875</td>\n",
       "      <td>100.375</td>\n",
       "    </tr>\n",
       "    <tr>\n",
       "      <th>2016</th>\n",
       "      <td>12217.500</td>\n",
       "      <td>12777.500</td>\n",
       "      <td>0.323096</td>\n",
       "      <td>658.125</td>\n",
       "      <td>646.0</td>\n",
       "      <td>25.704331</td>\n",
       "      <td>13.579331</td>\n",
       "      <td>376.000</td>\n",
       "      <td>-12.125</td>\n",
       "    </tr>\n",
       "    <tr>\n",
       "      <th>2017</th>\n",
       "      <td>14445.625</td>\n",
       "      <td>13744.375</td>\n",
       "      <td>0.332807</td>\n",
       "      <td>656.250</td>\n",
       "      <td>646.0</td>\n",
       "      <td>23.985122</td>\n",
       "      <td>13.735122</td>\n",
       "      <td>-210.875</td>\n",
       "      <td>-10.250</td>\n",
       "    </tr>\n",
       "  </tbody>\n",
       "</table>\n",
       "</div>"
      ],
      "text/plain": [
       "            初始价        收盘价     实现波动率       赔付    期权费        交易损益        对冲损益  \\\n",
       "到期日                                                                            \n",
       "2013  19290.000  18768.750  0.232745  539.375  646.0   26.814663  133.439663   \n",
       "2014  14386.875  13807.500  0.227062  697.500  646.0  137.019454   85.519454   \n",
       "2015  12620.000  12336.250  0.281842  545.625  646.0   35.866448  136.241448   \n",
       "2016  12217.500  12777.500  0.323096  658.125  646.0   25.704331   13.579331   \n",
       "2017  14445.625  13744.375  0.332807  656.250  646.0   23.985122   13.735122   \n",
       "\n",
       "      delta 1 对冲损益    不对冲损益  \n",
       "到期日                          \n",
       "2013       -47.750  106.625  \n",
       "2014       -17.750  -44.625  \n",
       "2015        37.875  100.375  \n",
       "2016       376.000  -12.125  \n",
       "2017      -210.875  -10.250  "
      ]
     },
     "execution_count": 458,
     "metadata": {},
     "output_type": "execute_result"
    }
   ],
   "source": [
    "df2.groupby(df2['到期日'].dt.year).mean()"
   ]
  },
  {
   "cell_type": "code",
   "execution_count": 459,
   "metadata": {},
   "outputs": [
    {
     "data": {
      "text/plain": [
       "初始价             2873.211328\n",
       "收盘价             2747.942514\n",
       "实现波动率              0.073859\n",
       "赔付               343.001808\n",
       "期权费                0.000000\n",
       "交易损益             215.070090\n",
       "对冲损益             213.432214\n",
       "delta 1 对冲损益     751.711892\n",
       "不对冲损益            342.140322\n",
       "dtype: float64"
      ]
     },
     "execution_count": 459,
     "metadata": {},
     "output_type": "execute_result"
    }
   ],
   "source": [
    "df2.std()"
   ]
  },
  {
   "cell_type": "code",
   "execution_count": 460,
   "metadata": {},
   "outputs": [
    {
     "data": {
      "text/plain": [
       "初始价             14592.000000\n",
       "收盘价             14286.875000\n",
       "实现波动率               0.279510\n",
       "赔付                619.375000\n",
       "期权费               646.000000\n",
       "交易损益               49.878003\n",
       "对冲损益               76.503003\n",
       "delta 1 对冲损益       27.500000\n",
       "不对冲损益              28.000000\n",
       "dtype: float64"
      ]
     },
     "execution_count": 460,
     "metadata": {},
     "output_type": "execute_result"
    }
   ],
   "source": [
    "df2.mean()"
   ]
  },
  {
   "cell_type": "markdown",
   "metadata": {},
   "source": [
    "## 比较\n",
    "-------------"
   ]
  },
  {
   "cell_type": "code",
   "execution_count": 461,
   "metadata": {},
   "outputs": [],
   "source": [
    "s = df['不对冲损益'] - df2['不对冲损益']"
   ]
  },
  {
   "cell_type": "code",
   "execution_count": 462,
   "metadata": {},
   "outputs": [],
   "source": [
    "df['diff'] = s"
   ]
  },
  {
   "cell_type": "code",
   "execution_count": 463,
   "metadata": {},
   "outputs": [
    {
     "data": {
      "text/html": [
       "<div>\n",
       "<style>\n",
       "    .dataframe thead tr:only-child th {\n",
       "        text-align: right;\n",
       "    }\n",
       "\n",
       "    .dataframe thead th {\n",
       "        text-align: left;\n",
       "    }\n",
       "\n",
       "    .dataframe tbody tr th {\n",
       "        vertical-align: top;\n",
       "    }\n",
       "</style>\n",
       "<table border=\"1\" class=\"dataframe\">\n",
       "  <thead>\n",
       "    <tr style=\"text-align: right;\">\n",
       "      <th></th>\n",
       "      <th>合约</th>\n",
       "      <th>到期日</th>\n",
       "      <th>初始价</th>\n",
       "      <th>收盘价</th>\n",
       "      <th>实现波动率</th>\n",
       "      <th>赔付</th>\n",
       "      <th>期权费</th>\n",
       "      <th>交易损益</th>\n",
       "      <th>对冲损益</th>\n",
       "      <th>delta 1 对冲损益</th>\n",
       "      <th>不对冲损益</th>\n",
       "      <th>diff</th>\n",
       "    </tr>\n",
       "  </thead>\n",
       "  <tbody>\n",
       "  </tbody>\n",
       "</table>\n",
       "</div>"
      ],
      "text/plain": [
       "Empty DataFrame\n",
       "Columns: [合约, 到期日, 初始价, 收盘价, 实现波动率, 赔付, 期权费, 交易损益, 对冲损益, delta 1 对冲损益, 不对冲损益, diff]\n",
       "Index: []"
      ]
     },
     "execution_count": 463,
     "metadata": {},
     "output_type": "execute_result"
    }
   ],
   "source": [
    "df[df['diff'] != 0]"
   ]
  },
  {
   "cell_type": "code",
   "execution_count": 464,
   "metadata": {},
   "outputs": [
    {
     "data": {
      "text/html": [
       "<div>\n",
       "<style>\n",
       "    .dataframe thead tr:only-child th {\n",
       "        text-align: right;\n",
       "    }\n",
       "\n",
       "    .dataframe thead th {\n",
       "        text-align: left;\n",
       "    }\n",
       "\n",
       "    .dataframe tbody tr th {\n",
       "        vertical-align: top;\n",
       "    }\n",
       "</style>\n",
       "<table border=\"1\" class=\"dataframe\">\n",
       "  <thead>\n",
       "    <tr style=\"text-align: right;\">\n",
       "      <th></th>\n",
       "      <th>合约</th>\n",
       "      <th>到期日</th>\n",
       "      <th>初始价</th>\n",
       "      <th>收盘价</th>\n",
       "      <th>实现波动率</th>\n",
       "      <th>赔付</th>\n",
       "      <th>期权费</th>\n",
       "      <th>交易损益</th>\n",
       "      <th>对冲损益</th>\n",
       "      <th>delta 1 对冲损益</th>\n",
       "      <th>不对冲损益</th>\n",
       "    </tr>\n",
       "  </thead>\n",
       "  <tbody>\n",
       "  </tbody>\n",
       "</table>\n",
       "</div>"
      ],
      "text/plain": [
       "Empty DataFrame\n",
       "Columns: [合约, 到期日, 初始价, 收盘价, 实现波动率, 赔付, 期权费, 交易损益, 对冲损益, delta 1 对冲损益, 不对冲损益]\n",
       "Index: []"
      ]
     },
     "execution_count": 464,
     "metadata": {},
     "output_type": "execute_result"
    }
   ],
   "source": [
    "df2[df['diff'] != 0]"
   ]
  },
  {
   "cell_type": "code",
   "execution_count": null,
   "metadata": {
    "collapsed": true
   },
   "outputs": [],
   "source": []
  }
 ],
 "metadata": {
  "kernelspec": {
   "display_name": "Python 3",
   "language": "python",
   "name": "python3"
  },
  "language_info": {
   "codemirror_mode": {
    "name": "ipython",
    "version": 3
   },
   "file_extension": ".py",
   "mimetype": "text/x-python",
   "name": "python",
   "nbconvert_exporter": "python",
   "pygments_lexer": "ipython3",
   "version": "3.6.3"
  }
 },
 "nbformat": 4,
 "nbformat_minor": 2
}
